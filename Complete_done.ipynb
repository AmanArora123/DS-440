{
 "cells": [
  {
   "cell_type": "code",
   "execution_count": 2,
   "id": "d4cd793b-aedc-444f-9870-77f80fc09392",
   "metadata": {},
   "outputs": [],
   "source": [
    "# DS 440 Data Exploration\n",
    "\n",
    "# Spring 2023\n",
    "### Instructor: Prof. John Yen\n",
    "### Group Name: Philly Boys\n",
    "### Team Members: Andrew cavnaugh, Aman Arora\n"
   ]
  },
  {
   "cell_type": "code",
   "execution_count": 3,
   "id": "4e819506-bf21-4663-8e97-6ce2086e57cc",
   "metadata": {},
   "outputs": [],
   "source": [
    "import pyspark\n",
    "import csv"
   ]
  },
  {
   "cell_type": "code",
   "execution_count": 4,
   "id": "aa4450c5-861c-4639-9b88-d5f0e990135a",
   "metadata": {},
   "outputs": [],
   "source": [
    "from pyspark import SparkContext\n",
    "from pyspark.sql import SparkSession\n",
    "from pyspark.sql.types import StructField, StructType, StringType, LongType\n",
    "from pyspark.sql.functions import col, column\n",
    "from pyspark.sql.functions import expr\n",
    "from pyspark.sql.functions import split\n",
    "from pyspark.sql.functions import array_contains\n",
    "from pyspark.sql import Row\n",
    "from pyspark.ml import Pipeline\n",
    "from pyspark.ml.feature import OneHotEncoder, StringIndexer, VectorAssembler, IndexToString\n",
    "from pyspark.ml.clustering import KMeans\n",
    "from pyspark.ml.evaluation import ClusteringEvaluator\n",
    "from pyspark.ml.feature import PCA"
   ]
  },
  {
   "cell_type": "code",
   "execution_count": 5,
   "id": "d5a5ced3-d4e7-4b9b-bd45-8803212a7e00",
   "metadata": {},
   "outputs": [],
   "source": [
    "#Local Mode\n",
    "#ss = SparkSession.builder.master(\"local\").appName(\"Data Analysis Cusltering\").getOrCreate()\n",
    "#Cluster Mode\n",
    "ss = SparkSession.builder.appName(\"Data Exploration Analysis Clustering\").getOrCreate()"
   ]
  },
  {
   "cell_type": "code",
   "execution_count": 6,
   "id": "345f100b-5512-462d-ab20-4af096599a1d",
   "metadata": {},
   "outputs": [],
   "source": [
    "## Read in Data"
   ]
  },
  {
   "cell_type": "code",
   "execution_count": 7,
   "id": "d43def1a-bbe7-4189-bbec-db68a58709e6",
   "metadata": {},
   "outputs": [],
   "source": [
    "Scanners_df = ss.read.csv(\"/storage/home/aka5922/data/complete_Day1_2021profile.csv\", header= True, inferSchema=True )\n",
    "Scanners2_df = ss.read.csv(\"/storage/home/aka5922/data/complete_Day2_2021profile.csv\", header= True, inferSchema=True )"
   ]
  },
  {
   "cell_type": "code",
   "execution_count": 8,
   "id": "2b21a166-8b60-432e-9a1a-45a2fc3c7ca9",
   "metadata": {},
   "outputs": [],
   "source": [
    "#Filter out extreme scanners"
   ]
  },
  {
   "cell_type": "code",
   "execution_count": 9,
   "id": "b01bdd68-2f74-444d-b97d-fbc9b704578d",
   "metadata": {},
   "outputs": [],
   "source": [
    "multi_port_scanners= Scanners_df.where(col(\"numports\")>1)\n",
    "multi_port_scanners_d2 = Scanners2_df.where(col(\"numports\")>1)"
   ]
  },
  {
   "cell_type": "code",
   "execution_count": 10,
   "id": "0bcc5d27-af97-45ae-a337-f7b51bdd6fb0",
   "metadata": {},
   "outputs": [],
   "source": [
    "multi_port_scanners_count = multi_port_scanners.count()\n",
    "multi_port_scanners_count_d2 = multi_port_scanners_d2.count()"
   ]
  },
  {
   "cell_type": "code",
   "execution_count": 11,
   "id": "9b6fb080-af27-4ba5-b1d8-9f7247f172c5",
   "metadata": {},
   "outputs": [],
   "source": [
    "ScannersCount_byNumPorts = multi_port_scanners.groupby(\"numports\").count()\n",
    "ScannersCount_byNumPorts_d2 = multi_port_scanners_d2.groupby(\"numports\").count()"
   ]
  },
  {
   "cell_type": "code",
   "execution_count": 12,
   "id": "d9f7c468-5934-4f55-bc60-631c4f44a406",
   "metadata": {},
   "outputs": [],
   "source": [
    "SortedNumPorts_DF= ScannersCount_byNumPorts.orderBy(\"numports\", ascending = False)\n",
    "SortedNumPorts2_DF = ScannersCount_byNumPorts_d2.orderBy(\"numports\", ascending = False)"
   ]
  },
  {
   "cell_type": "code",
   "execution_count": 13,
   "id": "ffe942fc-b38d-4b38-9b79-e240ba3079fe",
   "metadata": {},
   "outputs": [],
   "source": [
    "max_non_rare_NumPorts= 1000"
   ]
  },
  {
   "cell_type": "code",
   "execution_count": 14,
   "id": "516d98de-e1a9-412d-8b06-5a5f68619c8f",
   "metadata": {},
   "outputs": [],
   "source": [
    "extreme_scanners = Scanners_df.where(col(\"numports\") > max_non_rare_NumPorts)\n",
    "extreme_scanners_d2 = Scanners2_df.where(col(\"numports\") > max_non_rare_NumPorts)"
   ]
  },
  {
   "cell_type": "code",
   "execution_count": 15,
   "id": "a9244825-5663-4a50-8b5c-13ec15a60e35",
   "metadata": {},
   "outputs": [],
   "source": [
    "#path2=\"/storage/home/aka5922/Extreme_Scanners.csv\"\n",
    "#path2_2=\"/storage/home/aka5922/Extreme_Scanners_D2.csv\"\n",
    "#extreme_scanners.write.option(\"header\",True).csv(path2)\n",
    "#extreme_scanners_day2.write.option(\"header\",True).csv(path2_2)"
   ]
  },
  {
   "cell_type": "code",
   "execution_count": 16,
   "id": "9bbcfe0c-dd52-4932-a845-47677bda0627",
   "metadata": {},
   "outputs": [],
   "source": [
    "non_extreme_multi_port_scanners = Scanners_df.where(col(\"numports\") <= max_non_rare_NumPorts).where(col(\"numports\") > 1)\n",
    "non_extreme_multi_port_scanners_d2 = Scanners2_df.where(col(\"numports\") <= max_non_rare_NumPorts).where(col(\"numports\") > 1)\n"
   ]
  },
  {
   "cell_type": "code",
   "execution_count": 17,
   "id": "c4628c97-fa98-406f-853d-615e159849aa",
   "metadata": {},
   "outputs": [],
   "source": [
    "# (a)\n",
    "NEMP_Scanners_df=non_extreme_multi_port_scanners.withColumn(\"Ports_Array\", split(col(\"ports_scanned_str\"), \"-\") )\n",
    "NEMP_Scannersd2_df=non_extreme_multi_port_scanners_d2.withColumn(\"Ports_Array_2\", split(col(\"ports_scanned_str\"), \"-\") )"
   ]
  },
  {
   "cell_type": "code",
   "execution_count": null,
   "id": "bb73f795-a846-4801-bd34-a30f2bb73ee1",
   "metadata": {},
   "outputs": [],
   "source": [
    "## Ports Scanned"
   ]
  },
  {
   "cell_type": "code",
   "execution_count": 15,
   "id": "f892095f-7cef-4f42-ac2e-1f63f13b6dd4",
   "metadata": {},
   "outputs": [],
   "source": [
    "Ports_Scanned_RDD = NEMP_Scanners_df.select(\"Ports_Array\").rdd\n",
    "Ports_Scanned_RDD_d2 = NEMP_Scannersd2_df.select(\"Ports_Array_2\").rdd"
   ]
  },
  {
   "cell_type": "code",
   "execution_count": 16,
   "id": "e9ab34d9-a771-4c4a-a128-20ae2f5f1584",
   "metadata": {},
   "outputs": [],
   "source": [
    "Ports_list_RDD = Ports_Scanned_RDD.map(lambda row: row[0] )\n",
    "Ports_list_RDD_d2 = Ports_Scanned_RDD_d2.map(lambda row: row[0] )"
   ]
  },
  {
   "cell_type": "code",
   "execution_count": 17,
   "id": "2f2b8ea7-1d59-4926-8683-2886e1ce54e7",
   "metadata": {},
   "outputs": [],
   "source": [
    "Ports_list2_RDD = Ports_list_RDD.flatMap(lambda x: x )\n",
    "Ports_list2_RDD_d2 = Ports_list_RDD_d2.flatMap(lambda x: x )\n"
   ]
  },
  {
   "cell_type": "code",
   "execution_count": 18,
   "id": "9a815fa9-92f9-4203-bb1e-78aaad04e033",
   "metadata": {},
   "outputs": [],
   "source": [
    "Port_count_RDD = Ports_list2_RDD.map(lambda x: (x, 1))\n",
    "Port_count_RDD_d2 = Ports_list2_RDD_d2.map(lambda x: (x, 1))\n"
   ]
  },
  {
   "cell_type": "code",
   "execution_count": 19,
   "id": "74b9f98d-1587-486f-895d-b7dcb69fa34e",
   "metadata": {},
   "outputs": [],
   "source": [
    "Port_count_total_RDD = Port_count_RDD.reduceByKey(lambda x,y: x+y)\n",
    "Port_count_total_RDD_d2 = Port_count_RDD_d2.reduceByKey(lambda x,y: x+y)\n"
   ]
  },
  {
   "cell_type": "code",
   "execution_count": 20,
   "id": "059aa510-b11d-4c95-a088-cc5a4cef4e3b",
   "metadata": {},
   "outputs": [],
   "source": [
    "Sorted_Count_Port_RDD = Port_count_total_RDD.map(lambda x: (x[1], x[0])).sortByKey( ascending = False)\n",
    "Sorted_Count_Port_RDD_d2 = Port_count_total_RDD_d2.map(lambda x: (x[1], x[0])).sortByKey( ascending = False)"
   ]
  },
  {
   "cell_type": "code",
   "execution_count": 21,
   "id": "d01745a6-75e1-4f95-bcbd-6dbf9a1a62a6",
   "metadata": {},
   "outputs": [
    {
     "data": {
      "text/plain": [
       "[(256111, '17128'),\n",
       " (256071, '17138'),\n",
       " (255938, '17132'),\n",
       " (255841, '17136'),\n",
       " (255675, '17130'),\n",
       " (255267, '17140'),\n",
       " (187424, '17134'),\n",
       " (187143, '17142'),\n",
       " (115588, '8080'),\n",
       " (115503, '80'),\n",
       " (105589, '23'),\n",
       " (38254, '62904'),\n",
       " (37998, '81'),\n",
       " (32353, '34220'),\n",
       " (32325, '34226'),\n",
       " (32309, '34224'),\n",
       " (32293, '34216'),\n",
       " (32287, '34218'),\n",
       " (32231, '33970'),\n",
       " (32098, '33968'),\n",
       " (32036, '33960'),\n",
       " (32025, '33972'),\n",
       " (31993, '33964'),\n",
       " (31974, '34228'),\n",
       " (31884, '33962'),\n",
       " (31417, '8443'),\n",
       " (31349, '49152'),\n",
       " (30442, '7574'),\n",
       " (28626, '52475'),\n",
       " (26667, '5555'),\n",
       " (26164, '1023'),\n",
       " (26016, '2323'),\n",
       " (25187, '52869'),\n",
       " (24959, '37215'),\n",
       " (21922, '8081'),\n",
       " (19088, '34222'),\n",
       " (19052, '33974'),\n",
       " (19045, '34230'),\n",
       " (18669, '33966'),\n",
       " (17010, '8181'),\n",
       " (16917, '60001'),\n",
       " (9490, '8550'),\n",
       " (8476, '445'),\n",
       " (6870, '0'),\n",
       " (6401, '30740'),\n",
       " (5482, '22'),\n",
       " (4913, '17018'),\n",
       " (4900, '54046'),\n",
       " (4708, '43293'),\n",
       " (4307, '13599'),\n",
       " (4148, '57628'),\n",
       " (4127, '5407'),\n",
       " (4110, '64030'),\n",
       " (4084, '64284'),\n",
       " (4021, '8000'),\n",
       " (3890, '31518'),\n",
       " (3800, '5353'),\n",
       " (3777, '4000'),\n",
       " (3568, '5060'),\n",
       " (3481, '6881'),\n",
       " (3472, '8082'),\n",
       " (3402, '11211'),\n",
       " (3388, '1433'),\n",
       " (3344, '8083'),\n",
       " (3326, '63544'),\n",
       " (3252, '443'),\n",
       " (3123, '39199'),\n",
       " (2872, '8268'),\n",
       " (2800, '30301'),\n",
       " (2792, '54278'),\n",
       " (2439, '55069'),\n",
       " (2425, '40988'),\n",
       " (2383, '1027'),\n",
       " (2313, '2004'),\n",
       " (2178, '22047'),\n",
       " (2126, '9501'),\n",
       " (2013, '58910'),\n",
       " (2006, '3389'),\n",
       " (1962, '44317'),\n",
       " (1869, '38175'),\n",
       " (1847, '3306'),\n",
       " (1771, '110'),\n",
       " (1725, '44818'),\n",
       " (1690, '7002'),\n",
       " (1664, '40108'),\n",
       " (1587, '2222'),\n",
       " (1561, '61804'),\n",
       " (1534, '7001'),\n",
       " (1487, '9200'),\n",
       " (1485, '11110'),\n",
       " (1442, '8088'),\n",
       " (1431, '10272'),\n",
       " (1422, '6379'),\n",
       " (1387, '8888'),\n",
       " (1338, '61983'),\n",
       " (1333, '9000'),\n",
       " (1328, '31594'),\n",
       " (1318, '18461'),\n",
       " (1313, '7777'),\n",
       " (1294, '444'),\n",
       " (1282, '26'),\n",
       " (1280, '666'),\n",
       " (1266, '42013'),\n",
       " (1248, '63369'),\n",
       " (1242, '6000'),\n",
       " (1234, '25117'),\n",
       " (1232, '36380'),\n",
       " (1230, '21'),\n",
       " (1226, '5984'),\n",
       " (1223, '9999'),\n",
       " (1213, '1434'),\n",
       " (1200, '1060'),\n",
       " (1197, '2002'),\n",
       " (1162, '9266'),\n",
       " (1160, '9090'),\n",
       " (1154, '3128'),\n",
       " (1149, '8983'),\n",
       " (1146, '7783'),\n",
       " (1144, '2480'),\n",
       " (1132, '8090'),\n",
       " (1125, '50000'),\n",
       " (1122, '40295'),\n",
       " (1106, '2223'),\n",
       " (1102, '35'),\n",
       " (1100, '55399'),\n",
       " (1097, '16415'),\n",
       " (1094, '2086'),\n",
       " (1091, '8008'),\n",
       " (1086, '8009'),\n",
       " (1057, '9443'),\n",
       " (1051, '65385'),\n",
       " (1043, '5900'),\n",
       " (1034, '27135'),\n",
       " (1031, '43621'),\n",
       " (1024, '10443'),\n",
       " (1021, '20360'),\n",
       " (1021, '20843'),\n",
       " (1020, '7443'),\n",
       " (1017, '60437'),\n",
       " (1016, '8060'),\n",
       " (1014, '9060'),\n",
       " (1011, '8001'),\n",
       " (1002, '18080'),\n",
       " (994, '10089'),\n",
       " (986, '8899'),\n",
       " (984, '16992'),\n",
       " (981, '137'),\n",
       " (977, '4040'),\n",
       " (975, '3689'),\n",
       " (972, '49153'),\n",
       " (957, '57116'),\n",
       " (928, '26980'),\n",
       " (922, '8500'),\n",
       " (920, '9527'),\n",
       " (919, '40808'),\n",
       " (914, '8002'),\n",
       " (906, '6060'),\n",
       " (894, '7100'),\n",
       " (880, '2079'),\n",
       " (876, '6380'),\n",
       " (873, '88'),\n",
       " (860, '123'),\n",
       " (824, '139'),\n",
       " (822, '53'),\n",
       " (819, '19999'),\n",
       " (819, '7210'),\n",
       " (807, '32799'),\n",
       " (797, '1382'),\n",
       " (797, '5000'),\n",
       " (791, '554'),\n",
       " (787, '8880'),\n",
       " (786, '36050'),\n",
       " (782, '31263'),\n",
       " (779, '3432'),\n",
       " (771, '111'),\n",
       " (768, '5901'),\n",
       " (765, '1080'),\n",
       " (761, '3000'),\n",
       " (759, '143'),\n",
       " (759, '5001'),\n",
       " (748, '37733'),\n",
       " (746, '4443'),\n",
       " (746, '993'),\n",
       " (746, '995'),\n",
       " (741, '5985'),\n",
       " (739, '873'),\n",
       " (737, '5432'),\n",
       " (736, '7547'),\n",
       " (736, '1900'),\n",
       " (734, '1521'),\n",
       " (732, '51036'),\n",
       " (731, '6001'),\n",
       " (731, '5222'),\n",
       " (729, '2083'),\n",
       " (728, '8800'),\n",
       " (727, '179'),\n",
       " (727, '82'),\n",
       " (725, '35947'),\n",
       " (725, '9080'),\n",
       " (724, '12345')]"
      ]
     },
     "execution_count": 21,
     "metadata": {},
     "output_type": "execute_result"
    }
   ],
   "source": [
    "top_k_ports = 200\n",
    "Sorted_Count_Port_RDD.take(top_k_ports)\n",
    "Sorted_Count_Port_RDD_day2.take(top_k_ports)\n"
   ]
  },
  {
   "cell_type": "code",
   "execution_count": 22,
   "id": "d8e3b42e-8e52-45c5-bb92-314bf50eba75",
   "metadata": {},
   "outputs": [],
   "source": [
    "Sorted_Ports_RDD= Sorted_Count_Port_RDD.map(lambda x: x[1] )\n",
    "Sorted_Ports_RDD_d2= Sorted_Count_Port_RDD_d2.map(lambda x: x[1] )\n",
    "\n",
    "Top_Ports_list = Sorted_Ports_RDD.take(top_k_ports)\n",
    "Top_Ports_list_d2 = Sorted_Ports_RDD_d2.take(top_k_ports)"
   ]
  },
  {
   "cell_type": "code",
   "execution_count": 23,
   "id": "360d0e31-6904-4276-8324-fc8ee544261e",
   "metadata": {},
   "outputs": [],
   "source": [
    "Top_Ports_combine = Top_Ports_list\n",
    "for i in range(0,199):\n",
    "    same_port_found = False\n",
    "    for j in range(0,199):\n",
    "        if Top_Ports_combine[j] == Top_Ports_list_d2[i]:\n",
    "            #print('same port'+Top_Ports_list_day2[i])\n",
    "            same_port_found = True\n",
    "    if same_port_found == False:\n",
    "        Top_Ports_combine.append(Top_Ports_list_d2[i])\n"
   ]
  },
  {
   "cell_type": "code",
   "execution_count": 24,
   "id": "a1b72988-0bb4-4efe-84a2-d57c4e9393a2",
   "metadata": {},
   "outputs": [],
   "source": [
    "from pyspark.sql.functions import array_contains"
   ]
  },
  {
   "cell_type": "code",
   "execution_count": null,
   "id": "1331cd7a-302f-44cb-9e9d-9201debaad34",
   "metadata": {},
   "outputs": [],
   "source": [
    "top_k_ports_combine = len(Top_Ports_combine)\n",
    "print(top_k_ports_combine)"
   ]
  },
  {
   "cell_type": "code",
   "execution_count": 26,
   "id": "a0b729c9-4ebf-4376-b73c-27412bffc503",
   "metadata": {},
   "outputs": [],
   "source": [
    "NEMP_Scanners2_both_df = NEMP_Scanners_df\n",
    "NEMP_Scanners2_d2_both_df = NEMP_Scannersd2_df\n",
    "\n",
    "for j in range(0, top_k_ports_combine):\n",
    "    # \"Port\" + Top_Ports_list[i]  is the name of each new feature created through One Hot Encoding Top_Ports_list\n",
    "    NEMP_Scanners3_both_df = NEMP_Scanners2_both_df.withColumn(\"Port\" + Top_Ports_combine[j], array_contains(\"Ports_Array\", Top_Ports_combine[j]))\n",
    "    NEMP_Scanners2_both_df = NEMP_Scanners3_both_df\n",
    "for i in range(0, top_k_ports_combine):\n",
    "    # \"Port\" + Top_Ports_list[i]  is the name of each new feature created through One Hot Encoding Top_Ports_list\n",
    "    NEMP_Scanners3_day2_both_df = NEMP_Scanners2_d2_both_df.withColumn(\"Port\" + Top_Ports_combine[i], array_contains(\"Ports_Array_2\", Top_Ports_combine[i]))\n",
    "    NEMP_Scanners2_day2_both_df = NEMP_Scanners3_d2_both_df\n"
   ]
  },
  {
   "cell_type": "code",
   "execution_count": 27,
   "id": "8b170c0a-3bac-4d1e-bb70-4ac09f69d73e",
   "metadata": {},
   "outputs": [],
   "source": [
    "input_features = [ ]\n",
    "for i in range(0, top_k_ports_combine):\n",
    "    input_features.append( \"Port\"+ Top_Ports_combine[i] )"
   ]
  },
  {
   "cell_type": "code",
   "execution_count": null,
   "id": "d2806424-050c-4c4b-8e49-c20941072646",
   "metadata": {},
   "outputs": [],
   "source": [
    "#K means clustering"
   ]
  },
  {
   "cell_type": "code",
   "execution_count": 28,
   "id": "33c8a75b-8419-4bf6-bb8a-2830ab63694b",
   "metadata": {},
   "outputs": [],
   "source": [
    "va = VectorAssembler().setInputCols(input_features).setOutputCol(\"features\")"
   ]
  },
  {
   "cell_type": "code",
   "execution_count": 29,
   "id": "ae5adbaa-c95c-4b4b-9f78-c53efc55f0e6",
   "metadata": {},
   "outputs": [],
   "source": [
    "data_day1= va.transform(NEMP_Scanners2_both_df)\n",
    "data_day2= va.transform(NEMP_Scanners2_d2_both_df)"
   ]
  },
  {
   "cell_type": "code",
   "execution_count": 31,
   "id": "a1093e11-cc77-4cda-b6e8-5074031fb45a",
   "metadata": {},
   "outputs": [],
   "source": [
    "total_clusters = top_k_ports_both\n",
    "km = KMeans(featuresCol= \"features\", predictionCol=\"prediction\").setK(top_k_ports_both).setSeed(123)\n",
    "#km.explainParams()"
   ]
  },
  {
   "cell_type": "code",
   "execution_count": 32,
   "id": "40f220a5-efad-46bb-a5f7-4934f60bb8cb",
   "metadata": {},
   "outputs": [],
   "source": [
    "kmModel_day1=km.fit(data_day1)\n",
    "kmModel_day2=km.fit(data_day2)"
   ]
  },
  {
   "cell_type": "code",
   "execution_count": 33,
   "id": "22e18c73-71d9-45d6-bd7f-af12c8cfc304",
   "metadata": {},
   "outputs": [],
   "source": [
    "predictions_day1 = kmModel_day1.transform(data_day1)\n",
    "predictions_day2 = kmModel_day2.transform(data_day2)"
   ]
  },
  {
   "cell_type": "code",
   "execution_count": 34,
   "id": "21c53236-13a0-4922-9e91-96ce8e9c6388",
   "metadata": {},
   "outputs": [],
   "source": [
    "Cluster1_day1_df=predictions_day1.where(col(\"prediction\")==0)\n",
    "Cluster1_day2_df=predictions_day2.where(col(\"prediction\")==0)"
   ]
  },
  {
   "cell_type": "code",
   "execution_count": 35,
   "id": "ef0ffc7c-b876-4c52-9ade-a0f5708b0a49",
   "metadata": {},
   "outputs": [],
   "source": [
    "summary_day1 = kmModel_day1.summary\n",
    "summary_day2 = kmModel_day2.summary"
   ]
  },
  {
   "cell_type": "code",
   "execution_count": 36,
   "id": "f9a0d9a2-b8a8-44dc-ae68-99fb01f84a50",
   "metadata": {},
   "outputs": [],
   "source": [
    "evaluator = ClusteringEvaluator()\n",
    "silhouette_day1 = evaluator.evaluate(predictions_day1)\n",
    "silhouette_day2 = evaluator.evaluate(predictions_day2)"
   ]
  },
  {
   "cell_type": "code",
   "execution_count": 37,
   "id": "af98e7bc-d58a-462b-87f6-37613346f2fb",
   "metadata": {},
   "outputs": [],
   "source": [
    "centers_day1 = kmModel_day1.clusterCenters()\n",
    "centers_day2 = kmModel_day2.clusterCenters()"
   ]
  },
  {
   "cell_type": "code",
   "execution_count": 38,
   "id": "b2bfa58a-867d-4930-9b79-9ecccba1e66a",
   "metadata": {},
   "outputs": [],
   "source": [
    "import pandas as pd\n",
    "import numpy as np\n",
    "import math"
   ]
  },
  {
   "cell_type": "code",
   "execution_count": 39,
   "id": "1f2254e4-e23a-48bd-987b-cc2c2f5b4fb5",
   "metadata": {},
   "outputs": [],
   "source": [
    "# Define columns of the Pandas dataframe\n",
    "column_list = ['cluster ID', 'size'] #mirai ratio\n",
    "for feature in input_features:\n",
    "    column_list.append(feature)\n",
    "clusters_summary_df_day1 = pd.DataFrame( columns = column_list )\n",
    "clusters_summary_df_day2 = pd.DataFrame( columns = column_list )\n",
    "\n",
    "#day1\n",
    "for i in range(0, total_clusters):\n",
    "    cluster_i = predictions_day1.where(col('prediction')==i)\n",
    "    cluster_i_size = cluster_i.count()\n",
    "    #cluster_i_mirai_count = cluster_i.where(col('mirai')).count()\n",
    "    #cluster_i_mirai_ratio = cluster_i_mirai_count/cluster_i_size\n",
    "    #if cluster_i_mirai_count > 0:\n",
    "        #print(\"Cluster \", i, \"; Mirai Ratio:\", cluster_i_mirai_ratio, \"; Cluster Size: \", cluster_i_size)\n",
    "    cluster_row = [i, cluster_i_size] #cluster_i_mirai_ratio\n",
    "    for j in range(0, len(input_features)):\n",
    "        cluster_row.append(centers_day1[i][j])\n",
    "    clusters_summary_df_day1.loc[i]= cluster_row"
   ]
  },
  {
   "cell_type": "code",
   "execution_count": 40,
   "id": "ff83c711-dd49-4377-aa10-777ca85ada83",
   "metadata": {},
   "outputs": [],
   "source": [
    "#day2\n",
    "for i in range(0, total_clusters):\n",
    "    cluster_i = predictions_day1.where(col('prediction')==i)\n",
    "    cluster_i_size = cluster_i.count()\n",
    "    #cluster_i_mirai_count = cluster_i.where(col('mirai')).count()\n",
    "    #cluster_i_mirai_ratio = cluster_i_mirai_count/cluster_i_size\n",
    "    #if cluster_i_mirai_count > 0:\n",
    "        #print(\"Cluster \", i, \"; Mirai Ratio:\", cluster_i_mirai_ratio, \"; Cluster Size: \", cluster_i_size)\n",
    "    cluster_row = [i, cluster_i_size]\n",
    "    for j in range(0, len(input_features)):\n",
    "        cluster_row.append(centers_day2[i][j])\n",
    "    clusters_summary_df_day2.loc[i]= cluster_row"
   ]
  },
  {
   "cell_type": "code",
   "execution_count": 41,
   "id": "5d0bddb2-e648-45c4-8cf0-41711b7d5c33",
   "metadata": {},
   "outputs": [],
   "source": [
    "path4= \"/storage/home/aka5922/Clusters_Summary_267OHE_k267_D1_1.csv\"\n",
    "path4_2= \"/storage/home/aka5922/Clusters_Summary_267OHE_k267_D2_1.csv\"\n",
    "clusters_summary_df_day1.to_csv(path4, header=True)\n",
    "clusters_summary_df_day2.to_csv(path4_2, header=True)"
   ]
  },
  {
   "cell_type": "code",
   "execution_count": 42,
   "id": "33d967fa-dd38-4c3d-a962-0d30e8714904",
   "metadata": {},
   "outputs": [],
   "source": [
    "J_Nearest_Clusters_D2_D1_df = pd.DataFrame(columns=[\"D2Cindex\", \"D2Csize\", \"D1NearestCindex\", \"D1Csize\", \"Similarity\"])\n",
    "# Cluster Centers of Day 2\n",
    "centers_D2 = centers_day1\n",
    "# Cluster Centers of Day 1\n",
    "centers_D1 = centers_day2\n",
    "i = 0\n",
    "for center2 in centers_D2:\n",
    "    j = 0\n",
    "    # Initialize shortest_dist\n",
    "    highest_similarity = 0\n",
    "    closest_cluster = -1\n",
    "    for center1 in centers_D1:\n",
    "        # skip clusters whose cluster centers are all zeros\n",
    "        if np.sum(center1) != 0:\n",
    "            fuzzy_intersection = np.minimum(center1, center2)\n",
    "            fuzzy_union = np.maximum(center1, center2)\n",
    "            cluster_i_j_similarity = np.sum(fuzzy_intersection)/np.sum(fuzzy_union)\n",
    "            if cluster_i_j_similarity > highest_similarity:\n",
    "                highest_similarity = cluster_i_j_similarity\n",
    "                closest_cluster = j\n",
    "        j = j+1\n",
    "    if closest_cluster != -1:\n",
    "        J_Nearest_Clusters_D2_D1_df.loc[i]=[ i, summary_day2.clusterSizes[i], closest_cluster, summary_day1.clusterSizes[closest_cluster], highest_similarity]\n",
    "    else:\n",
    "        J_Nearest_Clusters_D2_D1_df.loc[i]=[ i, summary_day2.clusterSizes[i], -1, 0, 0 ]\n",
    "    i = i+1"
   ]
  },
  {
   "cell_type": "code",
   "execution_count": 43,
   "id": "fd658905-ca55-4b17-a92b-9d4aa43a8650",
   "metadata": {},
   "outputs": [],
   "source": [
    "nearest_clusters_path=\"/storage/home/aka5922/J_nearest_clusters_D1_D2_union_1.csv\"\n",
    "J_Nearest_Clusters_D2_D1_df.to_csv(nearest_clusters_path, header=True)"
   ]
  },
  {
   "cell_type": "code",
   "execution_count": null,
   "id": "c54ec109-7a38-49b1-b7a8-df9ff8175f6c",
   "metadata": {},
   "outputs": [],
   "source": []
  }
 ],
 "metadata": {
  "kernelspec": {
   "display_name": "Python 3",
   "language": "python",
   "name": "python3"
  },
  "language_info": {
   "codemirror_mode": {
    "name": "ipython",
    "version": 3
   },
   "file_extension": ".py",
   "mimetype": "text/x-python",
   "name": "python",
   "nbconvert_exporter": "python",
   "pygments_lexer": "ipython3",
   "version": "3.8.8"
  }
 },
 "nbformat": 4,
 "nbformat_minor": 5
}
